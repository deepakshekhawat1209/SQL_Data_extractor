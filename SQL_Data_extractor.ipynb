{
  "nbformat": 4,
  "nbformat_minor": 0,
  "metadata": {
    "colab": {
      "provenance": [],
      "authorship_tag": "ABX9TyO9hN8f8hI4pIq7W+vyRn26",
      "include_colab_link": true
    },
    "kernelspec": {
      "name": "python3",
      "display_name": "Python 3"
    },
    "language_info": {
      "name": "python"
    }
  },
  "cells": [
    {
      "cell_type": "markdown",
      "metadata": {
        "id": "view-in-github",
        "colab_type": "text"
      },
      "source": [
        "<a href=\"https://colab.research.google.com/github/deepakshekhawat1209/SQL_Data_extractor/blob/main/SQL_Data_extractor.ipynb\" target=\"_parent\"><img src=\"https://colab.research.google.com/assets/colab-badge.svg\" alt=\"Open In Colab\"/></a>"
      ]
    },
    {
      "cell_type": "code",
      "execution_count": 24,
      "metadata": {
        "id": "1pBwNapVoh6H"
      },
      "outputs": [],
      "source": [
        "sqldata = \"\"\"\n",
        "| AD_PRES    | President                       |      20000 |      40000 |\n",
        "| AD_VP      | Administration Vice President   |      15000 |      30000 |\n",
        "| AD_ASST    | Administration Assistant        |       3000 |       6000 |\n",
        "| FI_MGR     | Finance Manager                 |       8200 |      16000 |\n",
        "| FI_ACCOUNT | Accountant                      |       4200 |       9000 |\n",
        "| AC_MGR     | Accounting Manager              |       8200 |      16000 |\n",
        "| AC_ACCOUNT | Public Accountant               |       4200 |       9000 |\n",
        "| SA_MAN     | Sales Manager                   |      10000 |      20000 |\n",
        "| SA_REP     | Sales Representative            |       6000 |      12000 |\n",
        "| PU_MAN     | Purchasing Manager              |       8000 |      15000 |\n",
        "| PU_CLERK   | Purchasing Clerk                |       2500 |       5500 |\n",
        "| ST_MAN     | Stock Manager                   |       5500 |       8500 |\n",
        "| ST_CLERK   | Stock Clerk                     |       2000 |       5000 |\n",
        "| SH_CLERK   | Shipping Clerk                  |       2500 |       5500 |\n",
        "| IT_PROG    | Programmer                      |       4000 |      10000 |\n",
        "| MK_MAN     | Marketing Manager               |       9000 |      15000 |\n",
        "| MK_REP     | Marketing Representative        |       4000 |       9000 |\n",
        "| HR_REP     | Human Resources Representative  |       4000 |       9000 |\n",
        "| PR_REP     | Public Relations Representative |       4500 |      10500 |\n",
        "\"\"\""
      ]
    },
    {
      "cell_type": "code",
      "source": [
        "def extractor(data:str):\n",
        "  # setting word count to go to the next line after certain number of words\n",
        "  count_word=0\n",
        "  col=4\n",
        "  output=\"(\"\n",
        "  for word in data.split(\"|\"):\n",
        "    # stripping all the unwanted space from the content\n",
        "    word=word.strip()\n",
        "    if count_word<col:\n",
        "      # double check to remove any empty strings\n",
        "      if word=='':\n",
        "        continue\n",
        "        # if the string is a number then we append the string without any quotations\n",
        "      try:\n",
        "        output=f\"{output}{float(word)},\"\n",
        "      except:\n",
        "        output=f\"{output}'{word}',\"\n",
        "      count_word+=1\n",
        "    else:\n",
        "      # if the word count reaches the number of words in the line we move to the next entry\n",
        "      output=f\"{output[:-1]}),\\n(\"\n",
        "      count_word=0\n",
        "      # [:-3] to remove the last comma from the output\n",
        "  print(str(output[:-3]))\n",
        "if __name__ == \"__main__\":\n",
        "    extractor(sqldata)"
      ],
      "metadata": {
        "colab": {
          "base_uri": "https://localhost:8080/"
        },
        "id": "-z25HetK2Rqc",
        "outputId": "cc23cb99-603c-4a3d-fc41-862c1205e5b4"
      },
      "execution_count": 25,
      "outputs": [
        {
          "output_type": "stream",
          "name": "stdout",
          "text": [
            "('AD_PRES','President',20000.0,40000.0),\n",
            "('AD_VP','Administration Vice President',15000.0,30000.0),\n",
            "('AD_ASST','Administration Assistant',3000.0,6000.0),\n",
            "('FI_MGR','Finance Manager',8200.0,16000.0),\n",
            "('FI_ACCOUNT','Accountant',4200.0,9000.0),\n",
            "('AC_MGR','Accounting Manager',8200.0,16000.0),\n",
            "('AC_ACCOUNT','Public Accountant',4200.0,9000.0),\n",
            "('SA_MAN','Sales Manager',10000.0,20000.0),\n",
            "('SA_REP','Sales Representative',6000.0,12000.0),\n",
            "('PU_MAN','Purchasing Manager',8000.0,15000.0),\n",
            "('PU_CLERK','Purchasing Clerk',2500.0,5500.0),\n",
            "('ST_MAN','Stock Manager',5500.0,8500.0),\n",
            "('ST_CLERK','Stock Clerk',2000.0,5000.0),\n",
            "('SH_CLERK','Shipping Clerk',2500.0,5500.0),\n",
            "('IT_PROG','Programmer',4000.0,10000.0),\n",
            "('MK_MAN','Marketing Manager',9000.0,15000.0),\n",
            "('MK_REP','Marketing Representative',4000.0,9000.0),\n",
            "('HR_REP','Human Resources Representative',4000.0,9000.0),\n",
            "('PR_REP','Public Relations Representative',4500.0,10500.0)\n"
          ]
        }
      ]
    },
    {
      "cell_type": "code",
      "source": [],
      "metadata": {
        "id": "xm987WSCpIPU"
      },
      "execution_count": null,
      "outputs": []
    }
  ]
}